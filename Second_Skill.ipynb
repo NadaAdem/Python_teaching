{
 "cells": [
  {
   "cell_type": "markdown",
   "metadata": {
    "id": "TX_-QfCapg5r"
   },
   "source": []
  },
  {
   "cell_type": "markdown",
   "metadata": {
    "id": "U8IqCJzxpg5t"
   },
   "source": [
    "*****\n",
    "This is a Jupyter Notebook document that extends a simple formatting syntax for authoring HTML and PDF.\n",
    "Review [this](https://jupyter-notebook.readthedocs.io/en/stable/notebook.html) website for more details on using Juputer Notebook.\n",
    "\n",
    "Use the JupyterHub server on the Google Cloud Platform, provided by your designated instructor, for this assignment. Ensure using Python 3.7.6 release then complete the assignment by inserting your Python code wherever seeing the string \"#INSERT YOUR ANSWER HERE.\"\n",
    "\n",
    "When you click the `File` button, from the top navigation bar, then select `Export Notebook As ...`,\n",
    "a document (PDF or HTML format) will be generated that includes\n",
    " both the assignment content and the output of any embedded Python code chunks.\n",
    "\n",
    "Using [these](https://www.ryerson.ca/courses/students/tutorials/assignments/) guidelines,\n",
    "submit **both** the IPYNB and the exported file (PDF or HTML).\n",
    "Failing to submit both files will be subject to mark deduction."
   ]
  },
  {
   "cell_type": "markdown",
   "metadata": {
    "id": "_w2FpDl5pg5u"
   },
   "source": [
    "*****"
   ]
  },
  {
   "cell_type": "markdown",
   "metadata": {
    "id": "EgCYUXsUpg5w"
   },
   "source": [
    "### Question 1 \n"
   ]
  },
  {
   "cell_type": "markdown",
   "metadata": {
    "id": "U8EiOXpFAvO0"
   },
   "source": [
    "**a)** Define a function called `isSymmetrical` that takes a string value as a parameter and returns `TRUE` if the given string is Symmetrical. A string is said to be symmetrical if the reverse of the string is the same as string. For example, “madam” is symmetrical, but “water” is not symmetrical."
   ]
  },
  {
   "cell_type": "code",
   "execution_count": 7,
   "metadata": {
    "id": "uDtTitw9AvO1",
    "pycharm": {
     "name": "#%%\n"
    }
   },
   "outputs": [
    {
     "name": "stdin",
     "output_type": "stream",
     "text": [
      "Enter the string to check : madam\n"
     ]
    },
    {
     "data": {
      "text/plain": [
       "'True'"
      ]
     },
     "execution_count": 7,
     "metadata": {},
     "output_type": "execute_result"
    }
   ],
   "source": [
    "def isSymmetrical(word): \n",
    "\n",
    "      answer=\"\"\n",
    "      if(len(word)>1):\n",
    "       newWords = word[::-1] \n",
    "       if(word == newWords):\n",
    "          answer= \"True\"\n",
    "       else:\n",
    "          answer=\"False\"\n",
    "\n",
    "      return answer\n",
    "\n",
    "str = input(\"Enter the string to check :\")\n",
    "isSymmetrical(str)\n"
   ]
  },
  {
   "cell_type": "markdown",
   "metadata": {
    "id": "7P6eyfpepg58"
   },
   "source": [
    "**b)** *Modify the `isSymmetrical` function you created in Q1.a to take any type of data as an input and return `TRUE` if the input is symmetrical. For example, \"12321\" is symmetrical, but \"12345\" is not symmetrical."
   ]
  },
  {
   "cell_type": "code",
   "execution_count": 6,
   "metadata": {
    "id": "s2xo2uaYpg59",
    "pycharm": {
     "name": "#%%\n"
    },
    "tags": [
     "parameters"
    ]
   },
   "outputs": [
    {
     "name": "stdin",
     "output_type": "stream",
     "text": [
      "Enter the string to check : 12345\n"
     ]
    },
    {
     "name": "stdout",
     "output_type": "stream",
     "text": [
      "False\n"
     ]
    }
   ],
   "source": [
    "def isSymmetrical(word): \n",
    "      answer=\"\"\n",
    "      newWords = word[::-1] \n",
    "      if(word == newWords):\n",
    "          answer= \"True\"\n",
    "      else:\n",
    "          answer=\"False\"\n",
    "\n",
    "      return answer\n",
    "\n",
    "\n",
    "def reverseWord(Str): \n",
    "  \n",
    "    # Splitting the Sentence into list of words. \n",
    "   words = Str.split(\" \") \n",
    "   answers=\"\"  \n",
    "    # Reversing each word and creating \n",
    "    # a new list of words \n",
    "    # List Comprehension Technique \n",
    "   for word in words:\n",
    "        if(len(word)>1):\n",
    "            if( \"True\" == isSymmetrical(word)):\n",
    "              print(\"True\")\n",
    "            elif(\"False\" == isSymmetrical(word)):\n",
    "               print(\"False\")\n",
    "        \n",
    "\n",
    "\n",
    "st = input(\"Enter the string to check :\")\n",
    "reverseWord(st)"
   ]
  },
  {
   "cell_type": "markdown",
   "metadata": {
    "id": "xC08P3Mvpg6C"
   },
   "source": [
    "**c)** Define a function called `isSymmetricalVec` that calls `isSymmetrical` function you updated in Q1.b to take a list of elements and return their results in a list.  For example, given \\[\"1441\", \"Apple\", \"radar\", \"232\", \"plane\"\\] the function returns \\[`TRUE`, `FALSE`, `TRUE`, `TRUE`, `FALSE`\\]"
   ]
  },
  {
   "cell_type": "code",
   "execution_count": 8,
   "metadata": {
    "id": "MVoBD9X1pg6D",
    "pycharm": {
     "name": "#%%\n"
    },
    "tags": []
   },
   "outputs": [
    {
     "name": "stdin",
     "output_type": "stream",
     "text": [
      "Enter the string to check : 1441 Apple radar 232 plane\n"
     ]
    },
    {
     "data": {
      "text/plain": [
       "['True', 'False', 'True', 'True', 'False']"
      ]
     },
     "execution_count": 8,
     "metadata": {},
     "output_type": "execute_result"
    }
   ],
   "source": [
    "def isSymmetrical(word): \n",
    "      answer=\"\"\n",
    "      newWords = word[::-1] \n",
    "      if(word == newWords):\n",
    "          answer= \"True\"\n",
    "      else:\n",
    "          answer=\"False\"\n",
    "\n",
    "      return answer\n",
    "\n",
    "def isSymmetricalVec(Str): \n",
    "  \n",
    "    # Splitting the Sentence into list of words. \n",
    " \n",
    " list1=list(Str.split(\" \")) \n",
    " list2=[]\n",
    "\n",
    " \n",
    "     # Reversing each word and creating \n",
    "    # a new list of words \n",
    "    # List Comprehension Technique \n",
    " for index in range(len(list1)):\n",
    "   if(len(list1[index])>1):\n",
    "     if(\"True\" == isSymmetrical(list1[index])):\n",
    "           list2.append(\"True\")\n",
    "    \n",
    "     elif(\"False\" == isSymmetrical(list1[index])):\n",
    "         list2.append(\"False\")\n",
    "  \n",
    "\n",
    " return list2 \n",
    "\n",
    "st = input(\"Enter the string to check :\")\n",
    "isSymmetricalVec(st)\n",
    "\n"
   ]
  },
  {
   "cell_type": "markdown",
   "metadata": {
    "id": "M4dHoJWYpg6G"
   },
   "source": [
    "**d)**  Define a function called `isSymmetricalDict` by modifying the function you created in Q1.c to return the results in a dictionary with their corresponding input elements. \\\n",
    "For example, given \\[\"1441\", \"Apple\", \"radar\", \"232\", \"plane\"\\] the function returns {\"1441\": `TRUE`, \"Apple\": `FALSE`, \"radar\": `TRUE`, \"232\": `TRUE`, \"plane\": `FALSE`\\}"
   ]
  },
  {
   "cell_type": "code",
   "execution_count": 9,
   "metadata": {
    "id": "gtgmUSaQpg6H",
    "pycharm": {
     "name": "#%%\n"
    },
    "tags": []
   },
   "outputs": [
    {
     "name": "stdin",
     "output_type": "stream",
     "text": [
      "Enter the string to check : 1441 Apple radar 232 plane \n"
     ]
    },
    {
     "data": {
      "text/plain": [
       "{'1441': True, 'Apple': False, 'radar': True, '232': True, 'plane': False}"
      ]
     },
     "execution_count": 9,
     "metadata": {},
     "output_type": "execute_result"
    }
   ],
   "source": [
    "def isSymmetrical(word): \n",
    "      answer=\"\"\n",
    "      newWords = word[::-1] \n",
    "      if(word == newWords):\n",
    "          answer= \"True\"\n",
    "      else:\n",
    "          answer=\"False\"\n",
    "\n",
    "      return answer\n",
    "\n",
    "def  isSymmetricalDict(Str): \n",
    "  \n",
    "    # Splitting the Sentence into list of words. \n",
    " \n",
    " list1=list(Str.split(\" \")) \n",
    " sample_dictionary={}\n",
    "\n",
    " \n",
    "     # Reversing each word and creating \n",
    "    # a new list of words \n",
    "    # List Comprehension Technique \n",
    " for index in range(len(list1)):\n",
    "   if(len(list1[index])>1):\n",
    "     if(\"True\" == isSymmetrical(list1[index])):\n",
    "           sample_dictionary[list1[index]]= True\n",
    "    \n",
    "     elif(\"False\" == isSymmetrical(list1[index])):\n",
    "         sample_dictionary[list1[index]]= False\n",
    "  \n",
    " return sample_dictionary\n",
    "\n",
    "st = input(\"Enter the string to check :\")\n",
    "isSymmetricalDict(st)"
   ]
  },
  {
   "cell_type": "markdown",
   "metadata": {
    "id": "EXPv2CWzRDgl"
   },
   "source": [
    "**e)** Define a function called `isSymmetricalTuple` by modifying the function you created in Q1.d to traverse the values of the returned dictionary **in reverse order** and return the dictionary keys that has a **`TRUE`** value as a tuple.  For example, given \\[\"1441\", \"Apple\", \"radar\", \"232\", \"plane\"\\] the function returns (\"232\", \"radar\",\"1441\")."
   ]
  },
  {
   "cell_type": "code",
   "execution_count": 3,
   "metadata": {
    "id": "M25DHDYOUdpb"
   },
   "outputs": [
    {
     "name": "stdout",
     "output_type": "stream",
     "text": [
      "Enter the string to check :1441  Apple  radar 232  plane\n"
     ]
    },
    {
     "data": {
      "text/plain": [
       "('232', 'radar', '1441')"
      ]
     },
     "execution_count": 3,
     "metadata": {},
     "output_type": "execute_result"
    }
   ],
   "source": [
    "def isSymmetrical(word): \n",
    "      answer=\"\"\n",
    "      newWords = word[::-1] \n",
    "      if(word == newWords):\n",
    "          answer= \"True\"\n",
    "      else:\n",
    "          answer=\"False\"\n",
    "\n",
    "      return answer\n",
    "\n",
    "def  isSymmetricalDict(Str): \n",
    "  \n",
    "    # Splitting the Sentence into list of words. \n",
    " \n",
    " list1=list(Str.split(\" \")) \n",
    " sample_dictionary={}\n",
    "\n",
    " \n",
    "     # Reversing each word and creating \n",
    "    # a new list of words \n",
    "    # List Comprehension Technique \n",
    " for index in range(len(list1)):\n",
    "   if(len(list1[index])>1):\n",
    "     if(\"True\" == isSymmetrical(list1[index])):\n",
    "           sample_dictionary[list1[index]]= True\n",
    "    \n",
    "     elif(\"False\" == isSymmetrical(list1[index])):\n",
    "         sample_dictionary[list1[index]]= False\n",
    "  \n",
    " return sample_dictionary\n",
    "\n",
    "def isSymmetricalTuple(my_string):\n",
    "\n",
    "    \n",
    "    sample_dic = isSymmetricalDict(my_string)\n",
    "       \n",
    "  \n",
    "    listofkey= [key  for (key, value) in sample_dic.items() if value == True]\n",
    "    return tuple(reversed(listofkey))\n",
    "    \n",
    "\n",
    "str = input(\"Enter the string to check :\")\n",
    "isSymmetricalTuple(str)\n",
    "\n",
    "\n"
   ]
  },
  {
   "cell_type": "markdown",
   "metadata": {
    "id": "ES2Lj2aup8BB"
   },
   "source": [
    "*****"
   ]
  },
  {
   "cell_type": "markdown",
   "metadata": {
    "id": "TEbtnn-0pg6K",
    "nteract": {
     "transient": {
      "deleting": false
     }
    }
   },
   "source": [
    "\n",
    "\n",
    "### Question 2\n",
    "\n",
    "\n"
   ]
  },
  {
   "cell_type": "markdown",
   "metadata": {
    "id": "FRw3RLJ0pg6M",
    "nteract": {
     "transient": {
      "deleting": false
     }
    }
   },
   "source": [
    "**a)**Define a function called `minSubStr` that takes two string arguments ( S and T ), and returns `TRUE` if the characters of *T* exist in *S*, else returns `FALSE`. For example: given `S = 'xBxxAxxCxxAxCxxBxxxAxCxBxxxAxxBxCx'` and `T = \"ABC\"`, returns `TRUE` (`T = \"ABCD\"`, returns `FALSE)`\n"
   ]
  },
  {
   "cell_type": "code",
   "execution_count": 3,
   "metadata": {
    "id": "PWvj1Z6lpg6N",
    "nteract": {
     "transient": {
      "deleting": false
     }
    },
    "tags": []
   },
   "outputs": [
    {
     "data": {
      "text/plain": [
       "'True'"
      ]
     },
     "execution_count": 3,
     "metadata": {},
     "output_type": "execute_result"
    }
   ],
   "source": [
    "def minSubStr(x,y):\n",
    "  S=x\n",
    "  T=y\n",
    "  answer=\"\"\n",
    "  count=0\n",
    "  index=0\n",
    "  while index < len(T):\n",
    "     letter = T[index]\n",
    "     #print(letter)\n",
    "     index+=1\n",
    "     if  letter in S:\n",
    "        count+=1\n",
    "        if count== len(T):\n",
    "         answer =\"True\"\n",
    "     else:\n",
    "       answer =\"False \"\n",
    "\n",
    "  return answer\n",
    "\n",
    "minSubStr(\"xBxxAxxCxxAxCxxBxxxAxCxBxxxAxxBxCx\", \"ABC\")  "
   ]
  },
  {
   "cell_type": "markdown",
   "metadata": {
    "id": "dGqJtsN4AvPB"
   },
   "source": [
    "**b)** Modify your `minSubStr` function defined in Q2.a to return the first possible substring (traversing from left) containing all the elements of `T`. For example: given `S = 'xBxxAxxCxxAxCxxBxxxAxCxBxxxAxxBxCx'` and `T = \"ABC\"`, returns **`\"BxxAxxC\"`**"
   ]
  },
  {
   "cell_type": "code",
   "execution_count": 2,
   "metadata": {
    "id": "DVOaFVZvAvPO",
    "pycharm": {
     "name": "#%%\n"
    },
    "tags": []
   },
   "outputs": [
    {
     "data": {
      "text/plain": [
       "'BxxAxxC'"
      ]
     },
     "execution_count": 2,
     "metadata": {},
     "output_type": "execute_result"
    }
   ],
   "source": [
    "def minSubStr(x,y):\n",
    "  S=x\n",
    "  T=y\n",
    "  num =[]\n",
    "  count=0\n",
    "  index=0\n",
    "  while index < len(S):\n",
    "    letter = S[index]\n",
    "    index+=1\n",
    "    if  letter in T:\n",
    "        letterindex = index-1\n",
    "        count+=1\n",
    "        num.append(letterindex)\n",
    "        if count== len(T):\n",
    "          num1=int(num[0])\n",
    "          numlast= int(num[-1])+1\n",
    "          answer =S[num1:numlast]\n",
    "          \n",
    "  return answer\n",
    "\n",
    "\n",
    "\n",
    "\n",
    "minSubStr(\"xBxxAxxCxxAxCxxBxxxAxCxBxxxAxxBxCx\", \"ABC\")      \n",
    "    "
   ]
  },
  {
   "cell_type": "markdown",
   "metadata": {
    "id": "mkFrWZ3kAvPQ"
   },
   "source": [
    "**c)**  Modify your `minSubStr` function defined in Q2.b to return the shortest substring containing all the elements of T. For example: given `S = 'xBxxAxxCxxAxCxxBxxxAxCxBxxxAxxBxCx'` and `T = \"ABC\"`, returns **`\"AxCxB\"`**\n"
   ]
  },
  {
   "cell_type": "code",
   "execution_count": 2,
   "metadata": {
    "id": "fP4sK_mKAvPR",
    "pycharm": {
     "name": "#%%\n"
    },
    "tags": []
   },
   "outputs": [
    {
     "data": {
      "text/plain": [
       "'AxCxB'"
      ]
     },
     "execution_count": 2,
     "metadata": {},
     "output_type": "execute_result"
    }
   ],
   "source": [
    " ''''def minSubStr(x,y):\n",
    "  S=x\n",
    "  T=y\n",
    "  num =[]\n",
    "  count=0\n",
    "  index=0\n",
    "  listlen = 0\n",
    "  answer=\"\"\n",
    "  while index < len(S):\n",
    "    letter = S[index]\n",
    "    index+=1\n",
    "    \n",
    "    if  letter in T:\n",
    "        letterindex=index-1\n",
    "       # print(letterindex)\n",
    "        count+=1\n",
    "        num.append(letterindex)\n",
    "        if count == len(T):\n",
    "          num1= int(num[0])\n",
    "          numlast=int(num[-1]) +1\n",
    "          subset = S[num1:numlast]\n",
    "         # print(subset , len(subset))\n",
    "          if listlen == 0:\n",
    "           listlen =len(subset)\n",
    "           answer= subset\n",
    "          if listlen > len(subset) :\n",
    "            listlen= len(subset)\n",
    "            answer= subset\n",
    "          count= 0\n",
    "          num=[]  \n",
    "        \n",
    "    \n",
    "  return answer\n",
    "     \n",
    "\n",
    "minSubStr(\"xBxxAxxCxxAxCxxBxxxAxCxBxxxAxxBxCx\", \"ABC\")'''\n",
    "    \n",
    "# Python3 program to find the smallest window\n",
    "# containing all characters of a pattern.\n",
    "no_of_chars = 256\n",
    " \n",
    "# Function to find smallest window\n",
    "# containing all characters of 'pat'\n",
    "def findSubString(string, pat):\n",
    " \n",
    "    len1 = len(string)\n",
    "    len2 = len(pat)\n",
    " \n",
    "    # Check if string's length is\n",
    "    # less than pattern's\n",
    "    # length. If yes then no such\n",
    "    # window can exist\n",
    "    if len1 < len2:\n",
    " \n",
    "        print(\"False\")\n",
    "        return \"\"\n",
    " \n",
    "    hash_pat = [0] * no_of_chars\n",
    "    hash_str = [0] * no_of_chars\n",
    " \n",
    "    # Store occurrence ofs characters of pattern\n",
    "    for i in range(0, len2):\n",
    "        hash_pat[ord(pat[i])] += 1\n",
    " \n",
    "    start, start_index, min_len = 0, -1, float('inf')\n",
    " \n",
    "    # Start traversing the string\n",
    "    count = 0  # count of characters\n",
    "    for j in range(0, len1):\n",
    " \n",
    "        # count occurrence of characters of string\n",
    "        hash_str[ord(string[j])] += 1\n",
    " \n",
    "        # If string's char matches with\n",
    "        # pattern's char then increment count\n",
    "        if (hash_str[ord(string[j])] <=\n",
    "                hash_pat[ord(string[j])]):\n",
    "            count += 1\n",
    " \n",
    "        # if all the characters are matched\n",
    "        if count == len2:\n",
    " \n",
    "            # Try to minimize the window\n",
    "            while (hash_str[ord(string[start])] >\n",
    "                   hash_pat[ord(string[start])] or\n",
    "                   hash_pat[ord(string[start])] == 0):\n",
    " \n",
    "                if (hash_str[ord(string[start])] >\n",
    "                        hash_pat[ord(string[start])]):\n",
    "                    hash_str[ord(string[start])] -= 1\n",
    "                start += 1\n",
    " \n",
    "\n",
    "\n",
    "            # update window size\n",
    "            len_window = j - start + 1\n",
    "            if min_len > len_window:\n",
    "              \n",
    "                min_len = len_window\n",
    "                start_index = start\n",
    " \n",
    "    # If no window found\n",
    "    if start_index == -1:\n",
    "        print(\"False\")\n",
    "        return \"\"\n",
    " \n",
    "    # Return substring starting from\n",
    "    # start_index and length min_len\n",
    "    return string[start_index: start_index + min_len]\n",
    "\n",
    "\n",
    "findSubString(\"xBxxAxxCxxAxCxxBxxxAxCxBxxxAxxBxCx\", \"ABC\")  "
   ]
  },
  {
   "cell_type": "markdown",
   "metadata": {
    "id": "TK1dYXTIYsh2"
   },
   "source": [
    "**d)**  modify your `minSubStr` function defined in Q2.c to return the shortest substring containing all the elements of T in order. For example: given `S = 'xBxxAxxCxxAxCxxBxxxAxCxBxxxAxxBxCx'` and `T = \"ABC\"`, returns **`\"AxxBxC\"`**"
   ]
  },
  {
   "cell_type": "code",
   "execution_count": 1,
   "metadata": {
    "id": "M_I4iPfUY43m"
   },
   "outputs": [
    {
     "data": {
      "text/plain": [
       "'AxxBxC'"
      ]
     },
     "execution_count": 1,
     "metadata": {},
     "output_type": "execute_result"
    }
   ],
   "source": [
    "def minWindow( S, T):\n",
    "        \"\"\"\n",
    "        :type S: str\n",
    "        :type T: str\n",
    "        :rtype: str\n",
    "        dp[i][j]: the start position of Minimum Window Subsequence for S[:i] and T[:j]\n",
    "        \"\"\"\n",
    "        m = len(S)\n",
    "        n = len(T)\n",
    "        dp = [[-1 for j in range(n+1)] for i in range(m+1)]\n",
    "        \n",
    "        for i in range(m+1):\n",
    "            dp[i][0] = i\n",
    "        length = float('inf')\n",
    "        print(\"False\")\n",
    "        ans = \"\"\n",
    "        \n",
    "        for i in range(1, m+1):\n",
    "            for j in range(1, n+1):\n",
    "                if S[i-1] == T[j-1]:\n",
    "                    dp[i][j] = dp[i-1][j-1]\n",
    "                else:\n",
    "                    dp[i][j] = dp[i-1][j]\n",
    "                if dp[i][n] != -1 and i - dp[i][n] < length:\n",
    "                    length = i - dp[i][n]\n",
    "                    ans = S[dp[i][n]:i]\n",
    "        return ans\n",
    "\n",
    "minWindow(\"xBxxAxxCxxAxCxxBxxxAxCxBxxxAxxBxCx\", \"ABC\")    "
   ]
  },
  {
   "cell_type": "markdown",
   "metadata": {
    "id": "M9eJ34NNAvPT"
   },
   "source": [
    "*****"
   ]
  },
  {
   "cell_type": "markdown",
   "metadata": {
    "id": "NNVEX5FMq_I7"
   },
   "source": [
    "### Question 3 \n"
   ]
  },
  {
   "cell_type": "raw",
   "metadata": {
    "id": "oDRF95yUAvPW",
    "pycharm": {
     "name": "#%% md\n"
    }
   },
   "source": [
    "a) Complete the given code to define three classes, Shape, Oval and Circle.\n",
    "\n",
    "    Shape will be the parent class of Oval and Circle.\n",
    "    Randomly create ten objects from Oval and Circle classes using the for loop given below\n",
    "    Your code should produce correct number of Shapes, Circle and Oval objects. The count of objects should be calculated within the class definitions.\n",
    "        Example output (note that since it is random every time it will be a different number of shapes) \\ There are 10 random shape objects ['Circle', 'Circle', 'Circle', 'Circle', 'Oval', 'Circle', 'Oval', 'Oval', 'Circle', 'Circle'] \\ 3 of them are oval \\ 7 of them are cirlces \\\n",
    "\n",
    "\n"
   ]
  },
  {
   "cell_type": "code",
   "execution_count": 10,
   "metadata": {
    "id": "h6V2Y3iuBQ09"
   },
   "outputs": [
    {
     "name": "stdout",
     "output_type": "stream",
     "text": [
      "['Oval', 'Circle', 'Circle', 'Circle', 'Circle', 'Oval', 'Oval', 'Circle', 'Circle', 'Circle']\n",
      "There are  10  random shape objects.\n",
      "3 of them are oval\n",
      "7 of them are Circle\n"
     ]
    }
   ],
   "source": [
    "\n",
    "#INSERT YOUR ANSWER HERE.\n",
    "# Define Shape class\n",
    "class Shape:\n",
    "    count = 0\n",
    "\n",
    "    def __init__(self):\n",
    "        #general init stuff\n",
    "        self.inc_count()\n",
    "\n",
    "    def inc_count(self):\n",
    "        Shape.count += 1\n",
    "     #   super().inc_count() #removing this avoids AttributeError but means having\n",
    "                            # unique methods for inc_count in all SubCls level Classes\n",
    "\n",
    "\n",
    "   \n",
    "\n",
    "# Define Oval class\n",
    "class Oval(Shape):\n",
    "    \n",
    "    count = 0\n",
    "\n",
    "    def __init__(self):\n",
    "        super().__init__()\n",
    "        #unique init stuff\n",
    "\n",
    "    def inc_count(self):\n",
    "        Oval.count += 1\n",
    "        super().inc_count()\n",
    "\n",
    "    \n",
    "# Define Circle class\n",
    "class Circle(Shape):\n",
    "    \n",
    "    count = 0\n",
    "\n",
    "    def __init__(self):\n",
    "        super().__init__()\n",
    "        #unique init stuf\n",
    "\n",
    "    def inc_count(self):\n",
    "        Circle.count += 1\n",
    "        super().inc_count()\n",
    "\n",
    "\n",
    "# Run the following lines of code \n",
    "\n",
    "from random import choice\n",
    "list_of_shapes = [choice(['Circle', 'Oval']) for x in range(10)]\n",
    "for shape in list_of_shapes:\n",
    "  if shape == 'Oval':\n",
    "    # create an object of oval\n",
    "    answer=Oval()\n",
    "  else:\n",
    "    # create an object of circle class\n",
    "    answer1= Circle()\n",
    "\n",
    "\n",
    "# Print the list_of_shapes\n",
    "print(list_of_shapes)\n",
    "# Print number of shape objects\n",
    "print(\"There are \", Shape.count ,\" random shape objects.\")\n",
    "# Print number of Oval objects\n",
    "print(Oval.count , \"of them are oval\")\n",
    "# Print number of circle objects\n",
    "print(Circle.count ,\"of them are Circle\")\n",
    "# Run the following lines of code \n",
    "\n"
   ]
  },
  {
   "cell_type": "markdown",
   "metadata": {
    "id": "l9l0sjUoAvPk"
   },
   "source": [
    "#### This is the end of assignment 2"
   ]
  },
  {
   "cell_type": "code",
   "execution_count": null,
   "metadata": {},
   "outputs": [],
   "source": []
  },
  {
   "cell_type": "code",
   "execution_count": null,
   "metadata": {},
   "outputs": [],
   "source": []
  },
  {
   "cell_type": "code",
   "execution_count": null,
   "metadata": {},
   "outputs": [],
   "source": []
  }
 ],
 "metadata": {
  "colab": {
   "collapsed_sections": [],
   "name": "CIND830W21_Assignment_2.ipynb",
   "provenance": []
  },
  "kernelspec": {
   "display_name": "Python 3 (ipykernel)",
   "language": "python",
   "name": "python3"
  },
  "language_info": {
   "codemirror_mode": {
    "name": "ipython",
    "version": 3
   },
   "file_extension": ".py",
   "mimetype": "text/x-python",
   "name": "python",
   "nbconvert_exporter": "python",
   "pygments_lexer": "ipython3",
   "version": "3.7.11"
  },
  "nteract": {
   "version": "0.25.1"
  },
  "varInspector": {
   "cols": {
    "lenName": 16,
    "lenType": 16,
    "lenVar": 40
   },
   "kernels_config": {
    "python": {
     "delete_cmd_postfix": "",
     "delete_cmd_prefix": "del ",
     "library": "var_list.py",
     "varRefreshCmd": "print(var_dic_list())"
    },
    "r": {
     "delete_cmd_postfix": ") ",
     "delete_cmd_prefix": "rm(",
     "library": "var_list.r",
     "varRefreshCmd": "cat(var_dic_list()) "
    }
   },
   "types_to_exclude": [
    "module",
    "function",
    "builtin_function_or_method",
    "instance",
    "_Feature"
   ],
   "window_display": false
  }
 },
 "nbformat": 4,
 "nbformat_minor": 4
}
