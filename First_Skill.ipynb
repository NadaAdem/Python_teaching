{
 "cells": [
  {
   "cell_type": "markdown",
   "metadata": {
    "id": "UWjXw7DsJfGP"
   },
   "source": [
    "*****\n",
    "This is a Jupyter Notebook document that extends a simple formatting syntax for authoring HTML and PDF.\n",
    "Review [this](https://jupyter-notebook.readthedocs.io/en/stable/notebook.html) website for more details on using Jupyter Notebook.\n",
    "\n",
    "Use the JupyterHub server on the Google Cloud Platform, provided by your designated instructor, for this assignment. \n",
    "Ensure using **Python 3.7.6** release then complete the assignment by inserting your Python code wherever seeing the string \"#INSERT YOUR ANSWER HERE.\"\n",
    "\n",
    "When you click the `File` button, from the top navigation bar, then select `Export Notebook As ...`,\n",
    "a document (PDF or HTML format) will be generated that includes\n",
    " both the assignment content and the output of any embedded Python code chunks.\n",
    "\n",
    "Using [these](https://www.ryerson.ca/courses/students/tutorials/assignments/) guidelines,\n",
    "submit **both** the IPYNB and the exported file (PDF or HTML).\n",
    "Failing to submit both files will be subject to mark deduction."
   ]
  },
  {
   "cell_type": "markdown",
   "metadata": {
    "id": "RDm-t4u8JfGP"
   },
   "source": [
    "### Question 1 \n",
    "\n",
    "\n",
    "\n",
    "A multi-valued function has been defined as follows\n",
    "\n",
    "$$\n",
    "f(x) = \\left\\{\n",
    "    \\begin{array}\\\\\n",
    "       ({\\frac{x^2}{|x|+2}})^2 & \\mbox{if} \\ x < 5 \\\\\n",
    "        {\\frac{x^2}{|x|+2}} & \\mbox{if} \\ x = 5 \\\\\n",
    "       \\sqrt{\\frac{x^2}{|x|+2} } & \\mbox{if} \\ x > 5 \n",
    "    \\end{array}\n",
    "\\right.\n",
    "$$\n"
   ]
  },
  {
   "cell_type": "markdown",
   "metadata": {
    "id": "vARdfJN_JfGQ"
   },
   "source": [
    "**a)Write a program to ask the user to enter a floating-point real number, check whether the number is greater, equal or less than 5, then print the output according to the definition of the multi-valued function.\n",
    "\n",
    "For example, if the user enters `x = -57.8`, then the output should be:<br>\n",
    "`The value of f(x) is 3121.1093571660267`\n",
    "\n",
    "Hint: Use the `math` module as it provides access to some of the essential mathematical functions."
   ]
  },
  {
   "cell_type": "code",
   "execution_count": 1,
   "metadata": {
    "colab": {
     "base_uri": "https://localhost:8080/"
    },
    "id": "CldaDRWdJfGQ",
    "outputId": "402bc26e-0b7e-4067-8e31-765858adedc9"
   },
   "outputs": [
    {
     "name": "stdin",
     "output_type": "stream",
     "text": [
      "Enter the float number : -57.8\n"
     ]
    },
    {
     "name": "stdout",
     "output_type": "stream",
     "text": [
      "x = -57.8\n",
      "The value of f(x) is  3121.1093571660267\n"
     ]
    }
   ],
   "source": [
    "import math\n",
    "\n",
    "\n",
    "\n",
    "num =input(\"Enter the float number :\")\n",
    "num = float(num)\n",
    "\n",
    "#print(\"x =\" , num )\n",
    "\n",
    "if num <5 :\n",
    "  nume =(num**2/(abs(num)+2))**2\n",
    "  print(\"The value of f(x) is \", nume)\n",
    "   \n",
    "elif num == 5 :\n",
    "   nume = (num**2/(abs(num)+2))\n",
    "   print(\"The value of f(x) is \" ,nume)\n",
    "\n",
    "elif num > 5:\n",
    "  nume = math.sqrt(num**2/(abs(num)+2))\n",
    "  print(\"The value of f(x) is \" , nume)\n",
    "\n",
    "\n",
    "    "
   ]
  },
  {
   "cell_type": "markdown",
   "metadata": {
    "id": "ZRoY5MRdJfGQ"
   },
   "source": [
    "**b) Round the output of Q1.a to the nearest ineteger, convert that integer to a list of digits, then print the result.  \n",
    "\n",
    "For example, if the user enters `x = -57.8`, then the output should be: <br>\n",
    "`The value of f(x) is  3121.1093571660267`<br>\n",
    "`The list of digits is  [3, 1, 2, 1] `\n"
   ]
  },
  {
   "cell_type": "code",
   "execution_count": 2,
   "metadata": {
    "colab": {
     "base_uri": "https://localhost:8080/"
    },
    "id": "b725VzBSJfGR",
    "outputId": "8934e90c-77f2-49cd-ec19-2a1865657f11"
   },
   "outputs": [
    {
     "name": "stdin",
     "output_type": "stream",
     "text": [
      "Enter the float number : -57.8\n"
     ]
    },
    {
     "name": "stdout",
     "output_type": "stream",
     "text": [
      "x = -57.8\n",
      "The value of f(x) is  3121.1093571660267\n",
      "The list of digits is   [3, 1, 2, 1]\n"
     ]
    }
   ],
   "source": [
    "\n",
    "import math\n",
    "\n",
    "\n",
    "\n",
    "num =input(\"Enter the float number :\")\n",
    "num = float(num)\n",
    "\n",
    "\n",
    "#print(\"x =\" , num )\n",
    "\n",
    "if num <5 :\n",
    "  nume =(num**2/(abs(num)+2))**2\n",
    "  print(\"The value of f(x) is \", nume)\n",
    "   \n",
    "elif num == 5 :\n",
    "   nume = (num**2/(abs(num)+2))\n",
    "   print(\"The value of f(x) is \" ,nume)\n",
    "\n",
    "elif num > 5:\n",
    "  nume = math.sqrt(num**2/(abs(num)+2))\n",
    "  print(\"The value of f(x) is \" , nume)\n",
    "\n",
    "\n",
    "#  convert  integers\n",
    "answer = int(nume)\n",
    "\n",
    "# to convert number to list of integers \n",
    "res = [int(x) for x in str(answer)] \n",
    "  \n",
    "print (\"The list of digits is  \", res)\n",
    "     "
   ]
  },
  {
   "cell_type": "markdown",
   "metadata": {
    "id": "__ArmJayJfGR"
   },
   "source": [
    "**c) Find and print the `Median`, `Average` and `Mode` of the generated list in Q1.b.  For example, having `list = [6, 7, 7, 4]`, the result should be `Median = 6.5; Average = 6; Mode = 7`.  Ensure notifying the user if there is no unique mode found, as the `Mode` in this exercise returns only the single most common data item in the list.\n",
    "\n",
    "For example, if the user enters `x = -57.8`, then the output should be: <br>\n",
    "`The value of f(x) is  3121.1093571660267`<br>\n",
    "`The list of digits is  [3, 1, 2, 1]` <br>\n",
    "`Median is 1.5 ; Average is 1.75 ; Mode =  1`\n",
    "\n",
    "However, if the user enters `x = -57.2`, then the output should be: <br>\n",
    "`The value of f(x) is  3054.5040248356463` <br>\n",
    "`The list of digits is  [3, 0, 5, 4]` <br>\n",
    "`Median is 3.5 ; Average is 3 ; No unique mode found`\n",
    "\n",
    "Hint: Use the `statistics` module as it provides functions to calculate mathematical statistics of numeric data."
   ]
  },
  {
   "cell_type": "code",
   "execution_count": 3,
   "metadata": {
    "colab": {
     "base_uri": "https://localhost:8080/"
    },
    "id": "UaxzqgFIJfGS",
    "outputId": "cb39d04d-3489-4016-c11c-0e5185b38545"
   },
   "outputs": [
    {
     "name": "stdin",
     "output_type": "stream",
     "text": [
      "Enter the float number : -57.2\n"
     ]
    },
    {
     "name": "stdout",
     "output_type": "stream",
     "text": [
      "x = -57.2\n",
      "The value of f(x) is  3054.5040248356463\n",
      "The list of digits is   [3, 0, 5, 4]\n",
      "Median is 3.5 ; Average is  3  ; No unique mode found\n"
     ]
    }
   ],
   "source": [
    "import math\n",
    "import statistics\n",
    "\n",
    "\n",
    "num =input(\"Enter the float number :\")\n",
    "num = float(num)\n",
    "\n",
    "#print(\"x =\" , num )\n",
    "\n",
    "if num <5 :\n",
    "  nume =(num**2/(abs(num)+2))**2\n",
    "  print(\"The value of f(x) is \", nume)\n",
    "   \n",
    "elif num == 5 :\n",
    "   nume = (num**2/(abs(num)+2))\n",
    "   print(\"The value of f(x) is \" ,nume)\n",
    "\n",
    "elif num > 5:\n",
    "  nume = math.sqrt(num**2/(abs(num)+2))\n",
    "  print(\"The value of f(x) is \" , nume)\n",
    "\n",
    "\n",
    "\n",
    "#  convert  integers\n",
    "answer = int(nume)\n",
    "\n",
    "# to convert number to list of integers \n",
    "res = [int(x) for x in str(answer)] \n",
    "  \n",
    "print (\"The list of digits is  \", res)\n",
    "       \n",
    "\n",
    "\n",
    "\n",
    "try:\n",
    "  medians = statistics.median(res)\n",
    "#print( \"Median is \" , medians)\n",
    " \n",
    "  averages = statistics.mean(res) \n",
    "#print(\"Average is\" , Averages)\n",
    "\n",
    "  modes = statistics.mode(res)\n",
    " #print(\" Mode is \" , modes)\n",
    "  print(\"Median is\" , medians , \"; Average is \"  ,averages ,\" ; Mode =\" ,modes)\n",
    "\n",
    "except:\n",
    "  medians = statistics.median(res)\n",
    "#print( \"Median is \" , medians)\n",
    " \n",
    "\n",
    "  averages = statistics.mean(res) \n",
    "#print(\"Average is\" , Averages)\n",
    "\n",
    " # print(\"No unique mode found\")\n",
    "  print( \"Median is\" ,medians , \"; Average is \"  , averages ,\" ; No unique mode found\" )\n",
    "\n",
    "\n",
    "\n"
   ]
  },
  {
   "cell_type": "markdown",
   "metadata": {
    "id": "LswUhIjdJfGS"
   },
   "source": [
    "**d)**  * Find and print the sum of squares of all the numbers of the list generated in Q1.b.  \n",
    "\n",
    "For example, if the user enters `x = -57.8`, then the output should be: <br>\n",
    "`The value of f(x) is  3121.1093571660267`<br>\n",
    "`The list of digits is  [3, 1, 2, 1]` <br>\n",
    "`The sum of squares is 15`  "
   ]
  },
  {
   "cell_type": "code",
   "execution_count": 4,
   "metadata": {
    "colab": {
     "base_uri": "https://localhost:8080/"
    },
    "id": "ICOioDlKJfGS",
    "outputId": "514c6ef3-26ef-4125-83dc-de84efe2be17"
   },
   "outputs": [
    {
     "name": "stdin",
     "output_type": "stream",
     "text": [
      "Enter the float number : -57.8\n"
     ]
    },
    {
     "name": "stdout",
     "output_type": "stream",
     "text": [
      "x = -57.8\n",
      "The value of f(x) is  3121.1093571660267\n",
      "The list of digits is   [3, 1, 2, 1]\n",
      "the sum of square is 15\n"
     ]
    }
   ],
   "source": [
    "\n",
    "import math\n",
    "import statistics\n",
    "\n",
    "\n",
    "num =input(\"Enter the float number :\")\n",
    "num = float(num)\n",
    "\n",
    "#print(\"x =\" , num )\n",
    "\n",
    "if num <5 :\n",
    "  nume =(num**2/(abs(num)+2))**2\n",
    "  print(\"The value of f(x) is \", nume)\n",
    "   \n",
    "elif num == 5 :\n",
    "   nume = (num**2/(abs(num)+2))\n",
    "   print(\"The value of f(x) is \" ,nume)\n",
    "\n",
    "elif num > 5:\n",
    "  nume = math.sqrt(num**2/(abs(num)+2))\n",
    "  print(\"The value of f(x) is \" , nume)\n",
    "\n",
    "\n",
    "\n",
    "#  convert  integers\n",
    "answer = int(nume)\n",
    "\n",
    "# to convert number to list of integers \n",
    "res = [int(x) for x in str(answer)] \n",
    "  \n",
    "print (\"The list of digits is  \", res)\n",
    "\n",
    "\n",
    "answer= 0\n",
    "for x in range(len(res)): \n",
    "   answer = answer + res[x]**2 \n",
    "\n",
    "print ( \"the sum of square is\" ,answer)\n",
    "#print( \"The sum of squares is \" ,res[0]**2 + res[1]**2 + res[2]**2 + res[3]**2 ..... )\n",
    "\n",
    "\n"
   ]
  },
  {
   "cell_type": "markdown",
   "metadata": {
    "id": "I-eeT2BtJfGT"
   },
   "source": [
    "**e)**   Find and print the least common multiple of the numbers in the list generated in Q1.b.  \n",
    "\n",
    "For example, if the user enters `x = -57.8`, then the output should be: <br>\n",
    "`The value of f(x) is  3121.1093571660267`<br>\n",
    "`The list of digits is  [3, 1, 2, 1]` <br>\n",
    "`The least common multiple is 6`"
   ]
  },
  {
   "cell_type": "code",
   "execution_count": 5,
   "metadata": {
    "colab": {
     "base_uri": "https://localhost:8080/"
    },
    "id": "gm0k-xWbJfGT",
    "outputId": "b96fe12c-be1e-4433-89ae-e35225efeda7"
   },
   "outputs": [
    {
     "name": "stdin",
     "output_type": "stream",
     "text": [
      "Enter the float number : -57.8\n"
     ]
    },
    {
     "name": "stdout",
     "output_type": "stream",
     "text": [
      "x = -57.8\n",
      "The value of f(x) is  3121.1093571660267\n",
      "The list of digits is   [3, 1, 2, 1]\n",
      "the sum of square is 15\n",
      "The least common multiple is  6\n"
     ]
    }
   ],
   "source": [
    "\n",
    "import math\n",
    "import statistics\n",
    "\n",
    "\n",
    "num =input(\"Enter the float number :\")\n",
    "num = float(num)\n",
    "\n",
    "#print(\"x =\" , num )\n",
    "\n",
    "if num <5 :\n",
    "  nume =(num**2/(abs(num)+2))**2\n",
    "  print(\"The value of f(x) is \", nume)\n",
    "   \n",
    "elif num == 5 :\n",
    "   nume = (num**2/(abs(num)+2))\n",
    "   print(\"The value of f(x) is \" ,nume)\n",
    "\n",
    "elif num > 5:\n",
    "  nume = math.sqrt(num**2/(abs(num)+2))\n",
    "  print(\"The value of f(x) is \" , nume)\n",
    "\n",
    "\n",
    "#  convert  integers\n",
    "answer = int(nume)\n",
    "\n",
    "# to convert number to list of integers \n",
    "res = [int(x) for x in str(answer)] \n",
    "  \n",
    "print (\"The list of digits is  \", res)\n",
    "\n",
    "\n",
    "\n",
    "\n",
    "\n",
    "\n",
    "answer= 0\n",
    "for x in range(len(res)): \n",
    "   answer = answer + res[x]**2 \n",
    "\n",
    "print ( \"the sum of square is\" ,answer)\n",
    "#print( \"The sum of squares is \" ,res[0]**2 + res[1]**2 + res[2]**2 + res[3]**2 .........)\n",
    "\n",
    "leastcm= res[0]\n",
    "for i in range(1,len(res)):\n",
    "  lcm= least*res[i]//math.gcd(leastcm,res[i])\n",
    "\n",
    "print(\"The least common multiple is \",leastcm)\n",
    "\n",
    "\n",
    "\n"
   ]
  },
  {
   "cell_type": "markdown",
   "metadata": {
    "id": "WQP1V7zOJfGT"
   },
   "source": [
    "**f)*Find and print the binary rpresentation of the numbers in the list generated in Q1.b.  \n",
    "\n",
    "For example, if the user enters `x = -57.8`, then the output should be: <br>\n",
    "`The value of f(x) is  3121.1093571660267`<br>\n",
    "`The list of digits is  [3, 1, 2, 1]` <br>\n",
    "`The binary representation is ['11', '1', '10', '1']` "
   ]
  },
  {
   "cell_type": "code",
   "execution_count": 6,
   "metadata": {
    "colab": {
     "base_uri": "https://localhost:8080/"
    },
    "id": "2GqP_jsyJfGU",
    "outputId": "0848745a-a0e7-4d51-e09a-c94959608cad"
   },
   "outputs": [
    {
     "name": "stdin",
     "output_type": "stream",
     "text": [
      "Enter the float number : -57.8\n"
     ]
    },
    {
     "name": "stdout",
     "output_type": "stream",
     "text": [
      "x = -57.8\n",
      "The value of f(x) is  3121.1093571660267\n",
      "The list of digits is   [3, 1, 2, 1]\n",
      "The binary representation is   ['11', '1', '10', '1']\n"
     ]
    }
   ],
   "source": [
    "\n",
    "import math\n",
    "import statistics\n",
    "\n",
    "\n",
    "num =input(\"Enter the float number :\")\n",
    "num = float(num)\n",
    "\n",
    " #print(\"x =\" , num )\n",
    "\n",
    "if num <5 :\n",
    "  nume =(num**2/(abs(num)+2))**2\n",
    "  print(\"The value of f(x) is \", nume)\n",
    "   \n",
    "elif num == 5 :\n",
    "   nume = (num**2/(abs(num)+2))\n",
    "   print(\"The value of f(x) is \" ,nume)\n",
    "\n",
    "elif num > 5:\n",
    "  nume = math.sqrt(num**2/(abs(num)+2))\n",
    "  print(\"The value of f(x) is \" , nume)\n",
    "\n",
    "\n",
    "\n",
    "#  convert  integers\n",
    "answer = int(nume)\n",
    "\n",
    "# to convert number to list of integers \n",
    "res = [int(x) for x in str(answer)] \n",
    "  \n",
    "print (\"The list of digits is  \", res)\n",
    "\n",
    "\n",
    "\n",
    "newlist=[]\n",
    "\n",
    "for r in range(len(res)):\n",
    "  answer =bin(res[r])[2:]\n",
    "  newlist.append(answer)\n",
    "   \n",
    "print( 'The binary representation is  ', newlist)\n",
    "\n",
    "\n",
    "\n"
   ]
  },
  {
   "cell_type": "markdown",
   "metadata": {
    "id": "pHcWCZ8mJfGU"
   },
   "source": [
    "*****"
   ]
  },
  {
   "cell_type": "markdown",
   "metadata": {
    "id": "O3jPbo4vAvPc"
   },
   "source": [
    "### Question 2  \n",
    "\n",
    "Write a program that accepts the coefficients of the folllowing two lines as inputs\n",
    "\n",
    "Line1: $a_1x+b_1y + c_1 = 0$\n",
    "\n",
    "Line2: $a_2x+b_2y + c_2 = 0$\n",
    "\n",
    "Then checks whether the two lines are parallel, intersecting or overlapping according to the conditions listed below."
   ]
  },
  {
   "cell_type": "markdown",
   "metadata": {
    "id": "h_3gNcgeJfGU"
   },
   "source": [
    " Intersecting lines: If $\\frac{a_1}{a_2} \\ne \\frac{b_1}{b_2}$"
   ]
  },
  {
   "cell_type": "code",
   "execution_count": 13,
   "metadata": {
    "id": "L1uEFS0GAvPg"
   },
   "outputs": [
    {
     "name": "stdin",
     "output_type": "stream",
     "text": [
      "Enter three numbers of first line of coefficients : \t 7 6 7\n",
      "Enter three numbers of second  line of coefficients : \t  6 8 9\n"
     ]
    },
    {
     "name": "stdout",
     "output_type": "stream",
     "text": [
      "intersecting line \n"
     ]
    }
   ],
   "source": [
    "\n",
    "import numpy as np\n",
    "import matplotlib.pyplot as plt\n",
    "\n",
    "try:\n",
    " a1,b1,c1 = input(\"Enter three numbers of first line of coefficients : \\t\").split()\n",
    " a1,b1,c1=[float(a1),float(b1),float(c1)]\n",
    " if type(a1)== float and  type(b1)== float and type(c1)==float:\n",
    "   a2,b2,c2 = input(\"Enter three numbers of second  line of coefficients : \\t \").split()\n",
    "   a2,b2,c2=[float(a2),float(b2),float(c2)]\n",
    "   \n",
    "   if type(a2)==float and type(b2)==float and type(c2)==float:\n",
    "     if a1/a2  != b1/b2 :\n",
    "       print( \"intersecting line \")\n",
    " else:\n",
    "     print(\" please enter three numbers only.\")\n",
    "except ValueError:\n",
    "       print(\"You didnt enter three numbers  \\t\") "
   ]
  },
  {
   "cell_type": "markdown",
   "metadata": {
    "id": "b5J7kRLZAvPe"
   },
   "source": [
    "**b)**   Parallel lines: If the lines are not intersecting and $\\frac{a_1}{a_2} = \\frac{b_1}{b_2} \\ne \\frac{c_1}{c_2}$"
   ]
  },
  {
   "cell_type": "code",
   "execution_count": 20,
   "metadata": {
    "id": "bHHNxP0IAvPe"
   },
   "outputs": [
    {
     "name": "stdin",
     "output_type": "stream",
     "text": [
      "Enter three numbers of first line of coefficients : \t  9 3 8\n",
      "Enter three numbers of second  line of coefficients : \t  18 6 7\n"
     ]
    },
    {
     "name": "stdout",
     "output_type": "stream",
     "text": [
      "Parallel line\n"
     ]
    }
   ],
   "source": [
    "import numpy as np\n",
    "import matplotlib.pyplot as plt\n",
    "\n",
    "try:\n",
    " a1,b1,c1 = input(\"Enter three numbers of first line of coefficients : \\t\").split()\n",
    " a1,b1,c1=[float(a1),float(b1),float(c1)]\n",
    " if type(a1)== float and  type(b1)== float and type(c1)==float:\n",
    "   a2,b2,c2 = input(\"Enter three numbers of second  line of coefficients : \\t \").split()\n",
    "   a2,b2,c2=[float(a2),float(b2),float(c2)]\n",
    "   \n",
    "   if type(a2)==float and type(b2)==float and type(c2)==float:\n",
    "     if a1/a2  != b1/b2 :\n",
    "       print( \"intersecting line \")\n",
    "     elif a1/a2== b1/b2 and b1/b2 != c1/c2 :\n",
    "       print(\"Parallel line\")\n",
    "    \n",
    " else:\n",
    "     print(\" please enter three numbers only.\")\n",
    "except ValueError:\n",
    "       print(\"You didnt enter three numbers  \\t\") "
   ]
  },
  {
   "cell_type": "markdown",
   "metadata": {
    "id": "6q5tUb98JfGV"
   },
   "source": [
    "**c)**  Overlapping lines: If the lines are not intersecting and $\\frac{a_1}{a_2} = \\frac{b_1}{b_2} = \\frac{c_1}{c_2}$"
   ]
  },
  {
   "cell_type": "code",
   "execution_count": 19,
   "metadata": {
    "id": "PvQTbdc8AvPi"
   },
   "outputs": [
    {
     "name": "stdin",
     "output_type": "stream",
     "text": [
      "Enter three numbers of first line of coefficients : \t 8 8 8\n",
      "Enter three numbers of second  line of coefficients : \t  4 4 4\n"
     ]
    },
    {
     "name": "stdout",
     "output_type": "stream",
     "text": [
      "Overlapping line\n"
     ]
    }
   ],
   "source": [
    "import numpy as np\n",
    "import matplotlib.pyplot as plt\n",
    "\n",
    "try:\n",
    " a1,b1,c1 = input(\"Enter three numbers of first line of coefficients : \\t\").split()\n",
    " a1,b1,c1=[float(a1),float(b1),float(c1)]\n",
    " if type(a1)== float and  type(b1)== float and type(c1)==float:\n",
    "   a2,b2,c2 = input(\"Enter three numbers of second  line of coefficients : \\t \").split()\n",
    "   a2,b2,c2=[float(a2),float(b2),float(c2)]\n",
    "   \n",
    "   if type(a2)==float and type(b2)==float and type(c2)==float:\n",
    "     if a1/a2  != b1/b2 :\n",
    "       print( \"intersecting line \")\n",
    "     elif a1/a2== b1/b2 and b1/b2 != c1/c2 :\n",
    "       print(\"Parallel line\")\n",
    "     elif a1/a2== b1/b2 and b1/b2 == c1/c2 :\n",
    "       print(\"Overlapping line\")\n",
    " else:\n",
    "     print(\" please enter three numbers only.\")\n",
    "except ValueError:\n",
    "       print(\"You didnt enter three numbers  \\t\") "
   ]
  },
  {
   "cell_type": "markdown",
   "metadata": {
    "id": "l9l0sjUoAvPk"
   },
   "source": [
    "**d)**   Plot the two lines graphically using the `matplotlib` and `numpy` libraries or any other suitable libraries. "
   ]
  },
  {
   "cell_type": "code",
   "execution_count": 21,
   "metadata": {
    "id": "cDqwtAjhAvPk"
   },
   "outputs": [
    {
     "name": "stdin",
     "output_type": "stream",
     "text": [
      "Enter three numbers of first line of coefficients : \t  9 3 8\n",
      "Enter three numbers of second  line of coefficients : \t  18 6 7\n"
     ]
    },
    {
     "name": "stdout",
     "output_type": "stream",
     "text": [
      "Parallel line\n"
     ]
    },
    {
     "data": {
      "image/png": "[encoded data removed]",
      "text/plain": [
       "<Figure size 432x288 with 1 Axes>"
      ]
     },
     "metadata": {
      "needs_background": "light"
     },
     "output_type": "display_data"
    }
   ],
   "source": [
    "import numpy as np\n",
    "import matplotlib.pyplot as plt\n",
    "\n",
    "try:\n",
    " a1,b1,c1 = input(\"Enter three numbers of first line of coefficients : \\t\").split()\n",
    " a1,b1,c1=[float(a1),float(b1),float(c1)]\n",
    " if type(a1)== float and  type(b1)== float and type(c1)==float:\n",
    "   a2,b2,c2 = input(\"Enter three numbers of second  line of coefficients : \\t \").split()\n",
    "   a2,b2,c2=[float(a2),float(b2),float(c2)]\n",
    "   \n",
    "   if type(a2)==float and type(b2)==float and type(c2)==float:\n",
    "     if a1/a2  != b1/b2 :\n",
    "       print( \"intersecting line \")\n",
    "     elif a1/a2== b1/b2 and b1/b2 != c1/c2 :\n",
    "       print(\"Parallel line\")\n",
    "     elif a1/a2== b1/b2 and b1/b2 == c1/c2 :\n",
    "       print(\"Overlapping line\")\n",
    " else:\n",
    "     print(\" please enter three numbers only.\")\n",
    "except ValueError:\n",
    "       print(\"You didnt enter three numbers  \\t\") \n",
    "\n",
    "\n",
    "\n",
    "\n",
    "x =np.linspace(-5,5,100)\n",
    "#y =-(a1/b1)*x-c1\n",
    "\n",
    "\n",
    "plt.plot(x,-(a1/b1)*x-c1,'-r',label= \"first line\")\n",
    "plt.plot(x,-(a2/b2)*x-c2,'b' ,label=\"second line\")\n",
    "\n",
    "plt.legend()\n",
    "plt.show()"
   ]
  },
  {
   "cell_type": "markdown",
   "metadata": {
    "id": "1pXjKc23jXTj"
   },
   "source": [
    "*****"
   ]
  },
  {
   "cell_type": "markdown",
   "metadata": {
    "id": "liJoAmA1LGOz"
   },
   "source": [
    "### Question 3 \n",
    "Write a code for a Number Guessing Game. \n",
    "The code assigns a random integer number from a given interval to a varible, then asks the user to make a guess to find that number. \n",
    "\n",
    "Do not forget to check the validity of the selected number:\n",
    "- Is it an integer?\n",
    "- Is it an integer that lies in the given range?"
   ]
  },
  {
   "cell_type": "markdown",
   "metadata": {
    "id": "13g6-UkaB2bW"
   },
   "source": [
    "**a)**Follow these steps to implement a simple version of the game:\n",
    "- The code assigns a random integer number between 0 and 100 to a variable.\n",
    "- The code gives the user only one chance to guess that number. \n",
    "- The output of the code should be either 'correct' or 'wrong'.\n",
    "\n",
    "Hint:  Use the `random` module to generate a pseudo-random number."
   ]
  },
  {
   "cell_type": "code",
   "execution_count": 7,
   "metadata": {
    "id": "pgjCsUosSprl"
   },
   "outputs": [
    {
     "name": "stdin",
     "output_type": "stream",
     "text": [
      "Enter number between 0-100: 8\n"
     ]
    },
    {
     "name": "stdout",
     "output_type": "stream",
     "text": [
      "Wrong , the randon number is  6\n"
     ]
    }
   ],
   "source": [
    "import random \n",
    "\n",
    "random_number=random.randint(1,100)  \n",
    "\n",
    "try:\n",
    "  user_input = int(input('Enter number between 0-100:'))\n",
    "  if type(user_input)==int and 0<=user_input<=100 :\n",
    "    if (user_input == random_number):\n",
    "       print(\"Correct\")\n",
    "    else:\n",
    "     print(\"Wrong\") \n",
    "    #print(\"the randon number is \" , random_number )\n",
    "except ValueError:\n",
    "  print(\"You didnt enter integer between  0-100\")\n",
    "        "
   ]
  },
  {
   "cell_type": "markdown",
   "metadata": {
    "id": "QLa2BEzGBzAc"
   },
   "source": [
    "**b)**   Since it is difficult to guess a number in one try, let us give chances and clues. \n",
    "\n",
    "With unlimited trials and a random integer number in the inclusive range from 0 to 100, the code will compare the first guess with the random number and tell the user if the random number is lower or higher than the user's guess, and so on untill the user correctly guesses the random integer number. "
   ]
  },
  {
   "cell_type": "code",
   "execution_count": 1,
   "metadata": {
    "id": "DhhjKEO9_TG7"
   },
   "outputs": [
    {
     "name": "stdout",
     "output_type": "stream",
     "text": [
      "Enter number between 0-100:50\n",
      " The random number is lower than guess number \n",
      "Enter number between 0-100:20\n",
      "  The random  number  is higher than guess number\n",
      "Enter number between 0-100:90\n",
      " The random number is lower than guess number \n",
      "Enter number between 0-100:40\n",
      " The random number is lower than guess number \n",
      "Enter number between 0-100:30\n",
      " The random number is lower than guess number \n",
      "Enter number between 0-100:25\n",
      " The random number is lower than guess number \n",
      "Enter number between 0-100:23\n",
      "  The random  number  is higher than guess number\n",
      "Enter number between 0-100:24\n",
      " You have guessed correct number \n"
     ]
    }
   ],
   "source": [
    "import random \n",
    "\n",
    "random_number=random.randint(1,100)  \n",
    "\n",
    "\n",
    "while True:    \n",
    " try:                                                                            \n",
    "   user_input = int(input('Enter number between 0-100:'))\n",
    "   if type(user_input)==int and 0<=user_input<=100:\n",
    "       if user_input == random_number:\n",
    "         print(\" You have guessed correct number \")\n",
    "         break\n",
    "       else:\n",
    "         if random_number > user_input:\n",
    "          print(\"  The random  number  is higher than guess number\")\n",
    "         elif  random_number < user_input:\n",
    "          print(\" The random number is lower than guess number \")\n",
    "   else:\n",
    "       print (\"Please enter integer between 0-100\")\n",
    " except ValueError:\n",
    "       print(\"You didnt enter integer between  0-100\")"
   ]
  },
  {
   "cell_type": "markdown",
   "metadata": {
    "id": "bvWLIEBTFNE1"
   },
   "source": [
    "**c)**  Let us develop a better version of the program by limiting the number of chances for guessing the random number based on the interval's boundaries.  \n",
    "\n",
    " \n",
    "Start with asking the user to enter two numbers, being the lower and upper bounds of the interval from which the random number will be selected. After the application chooses the random number based on the entered boundaries, find and print the number of attempts given to the user by computing the square root of the difference between the lower and upper bounds.\n",
    "\n",
    "Notably, the lower-bound value must be at least 1, and the upper-bound value must be higher than the lower-bound one.\n"
   ]
  },
  {
   "cell_type": "code",
   "execution_count": 9,
   "metadata": {
    "colab": {
     "base_uri": "https://localhost:8080/"
    },
    "id": "MexIqFs8EH63",
    "outputId": "e1a7b697-b124-4318-a986-8ec1138e0bf5"
   },
   "outputs": [
    {
     "name": "stdout",
     "output_type": "stream",
     "text": [
      "Enter of two numbers from which the random number will be selected.\n"
     ]
    },
    {
     "name": "stdin",
     "output_type": "stream",
     "text": [
      " 4 8\n"
     ]
    },
    {
     "name": "stdout",
     "output_type": "stream",
     "text": [
      "You can attempt  2\n",
      "4\n"
     ]
    },
    {
     "name": "stdin",
     "output_type": "stream",
     "text": [
      "Enter the random number: 4\n"
     ]
    },
    {
     "name": "stdout",
     "output_type": "stream",
     "text": [
      " You have correct guess randon number \n"
     ]
    }
   ],
   "source": [
    "import random \n",
    "import math\n",
    "\n",
    "print(\"Enter of two numbers from which the random number will be selected.\")\n",
    "x, y = map(int, input().split())\n",
    "if x >=1 and x<y:\n",
    "    random_number = random.randint(x,y)  \n",
    "    attempts = int(math.sqrt(y-x))\n",
    "    print(\"You can attempt \" , attempts )\n",
    "   # print(random_number)\n",
    "\n",
    "    for n in range(0 , attempts):\n",
    "        \n",
    "        user_guess= int( input(\"Enter the random number:\"))\n",
    "        \n",
    "        if user_guess == random_number: \n",
    "          print (\" You have correct guess randon number \")\n",
    "          break\n",
    "          \n",
    "            \n",
    "        else:\n",
    "            print (\"You didnt guess number \")        \n",
    "\n",
    "else :\n",
    "    print(\"The first number must be at least 1, and the second number must be higher than the first number\")\n"
   ]
  },
  {
   "cell_type": "markdown",
   "metadata": {
    "id": "E7H-NKYDjaiE"
   },
   "source": [
    "*****"
   ]
  },
  {
   "cell_type": "markdown",
   "metadata": {
    "id": "2XrFEyymLKnR"
   },
   "source": [
    "### Question 4 \n",
    "\n",
    "Write a code for The Hangman Game. In this game, the user only enters the number of letters existing in that word, and the computer tries to guess them based on a fixed number of attempts.  The game ends if the computer correctly guessed all the letters in order or used all of the given attempts."
   ]
  },
  {
   "cell_type": "code",
   "execution_count": 1,
   "metadata": {
    "id": "Ocvn4QXHDgId",
    "scrolled": true
   },
   "outputs": [
    {
     "name": "stdin",
     "output_type": "stream",
     "text": [
      "Please enter number of letter guessed:\t  4\n",
      " Do word have letter ' H ' Please enter 'Yes' or 'No' ?\t  no\n"
     ]
    },
    {
     "name": "stdout",
     "output_type": "stream",
     "text": [
      "This is list of letter that word dont include ['H']\n"
     ]
    },
    {
     "name": "stdin",
     "output_type": "stream",
     "text": [
      " Do word have letter ' F ' Please enter 'Yes' or 'No' ?\t  no\n"
     ]
    },
    {
     "name": "stdout",
     "output_type": "stream",
     "text": [
      "This is list of letter that word dont include ['H', 'F']\n"
     ]
    },
    {
     "name": "stdin",
     "output_type": "stream",
     "text": [
      " Do word have letter ' Y ' Please enter 'Yes' or 'No' ?\t  yes\n",
      "How many ' Y ' found in word ? \t   2\n",
      " Please enter location of ' Y  ' in word .\t  1\n"
     ]
    },
    {
     "name": "stdout",
     "output_type": "stream",
     "text": [
      "['Y', '_', '_', '_']\n"
     ]
    },
    {
     "name": "stdin",
     "output_type": "stream",
     "text": [
      " Please enter location of ' Y  ' in word .\t  3\n"
     ]
    },
    {
     "name": "stdout",
     "output_type": "stream",
     "text": [
      "['Y', '_', 'Y', '_']\n"
     ]
    },
    {
     "name": "stdin",
     "output_type": "stream",
     "text": [
      " Do word have letter ' G ' Please enter 'Yes' or 'No' ?\t  no\n"
     ]
    },
    {
     "name": "stdout",
     "output_type": "stream",
     "text": [
      "This is list of letter that word dont include ['H', 'F', 'G']\n"
     ]
    },
    {
     "name": "stdin",
     "output_type": "stream",
     "text": [
      " Do word have letter ' Z ' Please enter 'Yes' or 'No' ?\t  no\n"
     ]
    },
    {
     "name": "stdout",
     "output_type": "stream",
     "text": [
      "This is list of letter that word dont include ['H', 'F', 'G', 'Z']\n"
     ]
    },
    {
     "name": "stdin",
     "output_type": "stream",
     "text": [
      " Do word have letter ' R ' Please enter 'Yes' or 'No' ?\t  yes\n",
      "How many ' R ' found in word ? \t   2\n",
      " Please enter location of ' R  ' in word .\t  2\n"
     ]
    },
    {
     "name": "stdout",
     "output_type": "stream",
     "text": [
      "['Y', 'R', 'Y', '_']\n"
     ]
    },
    {
     "name": "stdin",
     "output_type": "stream",
     "text": [
      " Please enter location of ' R  ' in word .\t  4\n"
     ]
    },
    {
     "name": "stdout",
     "output_type": "stream",
     "text": [
      "['Y', 'R', 'Y', 'R']\n",
      " Congratulation you have guess word  /t ['Y', 'R', 'Y', 'R']\n"
     ]
    },
    {
     "ename": "SystemExit",
     "evalue": "",
     "output_type": "error",
     "traceback": [
      "An exception has occurred, use %tb to see the full traceback.\n",
      "\u001b[0;31mSystemExit\u001b[0m\n"
     ]
    },
    {
     "name": "stderr",
     "output_type": "stream",
     "text": [
      "/opt/conda/lib/python3.7/site-packages/IPython/core/interactiveshell.py:3339: UserWarning: To exit: use 'exit', 'quit', or Ctrl-D.\n",
      "  warn(\"To exit: use 'exit', 'quit', or Ctrl-D.\", stacklevel=1)\n"
     ]
    }
   ],
   "source": [
    "\n",
    "\n",
    "import random\n",
    "import string\n",
    "import sys\n",
    "\n",
    "\n",
    "\n",
    "\n",
    "user_input= int(input(\"Please enter number of letter guessed:\\t \"))\n",
    "mylist=[\"_\"] * user_input\n",
    "wrong_letter = [\"\"] * 26 \n",
    "attempt = user_input*2\n",
    "number=0\n",
    "\n",
    "\n",
    "for n in range(0 ,attempt):\n",
    "  random_letter = random.choice(string.ascii_uppercase)\n",
    "  if random_letter not in wrong_letter: \n",
    "    try:\n",
    "     user_answer= input(\" Do word have letter ' \" + random_letter + \" ' Please enter 'Yes' or 'No' ?\\t \")\n",
    "     if user_answer.lower() == \"yes\": \n",
    "        number_found= int(input(\"How many ' \" + random_letter +\" ' found in word ? \\t  \"))\n",
    "        for s in range(0 , number_found):\n",
    "          location_number = int(input(\" Please enter location of ' \"+ random_letter +\"  ' in word .\\t \"))\n",
    "          if(mylist[location_number-1]== \"_\"):\n",
    "            mylist[location_number-1]= random_letter\n",
    "            print(mylist )\n",
    "          else:\n",
    "            print(\" This location of letter in word is  already taken . \\t\")\n",
    "          if \"_\" not in mylist:\n",
    "            print(\" Congratulation you have guess word  /t\" , mylist)\n",
    "            sys.exit()\n",
    "     elif user_answer.lower()== \"no\":\n",
    "         wrong_letter[number] = random_letter\n",
    "         #print(wrong_letter)\n",
    "         number+=1\n",
    "         print(\"This is list of letter that word dont include\" , wrong_letter[0:number])\n",
    "         \n",
    "     else:\n",
    "         print(\"Please enter 'Yes'or 'No' only \\t\")\n",
    "    except ValueError:\n",
    "       print(\"You didnt enter integer \\t\")  \n",
    "\n",
    "print(\"You have attempt max limit \\t \")            \n"
   ]
  },
  {
   "cell_type": "markdown",
   "metadata": {
    "id": "7vRukEN2JfGX"
   },
   "source": [
    "#### This is the end "
   ]
  },
  {
   "cell_type": "code",
   "execution_count": null,
   "metadata": {},
   "outputs": [],
   "source": []
  }
 ],
 "metadata": {
  "colab": {
   "collapsed_sections": [],
   "name": "CIND830F20 Assignment 1 QA_shared.ipynb",
   "provenance": []
  },
  "kernelspec": {
   "display_name": "Python 3 (ipykernel)",
   "language": "python",
   "name": "python3"
  },
  "language_info": {
   "codemirror_mode": {
    "name": "ipython",
    "version": 3
   },
   "file_extension": ".py",
   "mimetype": "text/x-python",
   "name": "python",
   "nbconvert_exporter": "python",
   "pygments_lexer": "ipython3",
   "version": "3.7.11"
  },
  "nteract": {
   "version": "0.27.0"
  },
  "varInspector": {
   "cols": {
    "lenName": 16,
    "lenType": 16,
    "lenVar": 40
   },
   "kernels_config": {
    "python": {
     "delete_cmd_postfix": "",
     "delete_cmd_prefix": "del ",
     "library": "var_list.py",
     "varRefreshCmd": "print(var_dic_list())"
    },
    "r": {
     "delete_cmd_postfix": ") ",
     "delete_cmd_prefix": "rm(",
     "library": "var_list.r",
     "varRefreshCmd": "cat(var_dic_list()) "
    }
   },
   "types_to_exclude": [
    "module",
    "function",
    "builtin_function_or_method",
    "instance",
    "_Feature"
   ],
   "window_display": false
  }
 },
 "nbformat": 4,
 "nbformat_minor": 4
}
